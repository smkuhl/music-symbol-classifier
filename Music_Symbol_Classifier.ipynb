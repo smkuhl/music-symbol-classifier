{
  "nbformat": 4,
  "nbformat_minor": 0,
  "metadata": {
    "colab": {
      "provenance": [],
      "include_colab_link": true
    },
    "kernelspec": {
      "name": "python3",
      "display_name": "Python 3"
    },
    "language_info": {
      "name": "python"
    }
  },
  "cells": [
    {
      "cell_type": "markdown",
      "metadata": {
        "id": "view-in-github",
        "colab_type": "text"
      },
      "source": [
        "<a href=\"https://colab.research.google.com/github/smkuhl/music-symbol-classifier/blob/main/Music_Symbol_Classifier.ipynb\" target=\"_parent\"><img src=\"https://colab.research.google.com/assets/colab-badge.svg\" alt=\"Open In Colab\"/></a>"
      ]
    },
    {
      "cell_type": "code",
      "source": [
        "import numpy as np\n",
        "import matplotlib.pyplot as plt\n",
        "\n",
        "import torch\n",
        "import torchvision\n",
        "import torchvision.transforms as transforms\n",
        "import torch.nn as nn\n",
        "import torch.nn.functional as F\n",
        "import torch.optim as optim\n",
        "from torch.utils.data import Dataset, DataLoader, random_split\n",
        "from torchvision.datasets import ImageFolder\n",
        "from torch.utils.data import Subset, DataLoader\n",
        "\n",
        "import os\n",
        "\n",
        "device = torch.device(\"cuda:0\" if torch.cuda.is_available() else \"cpu\")\n",
        "print(device)"
      ],
      "metadata": {
        "id": "LRFJyWRZwJ7d",
        "colab": {
          "base_uri": "https://localhost:8080/"
        },
        "outputId": "cd4234ee-6fdc-4f80-b88f-0ae0c8e7e1a9"
      },
      "execution_count": null,
      "outputs": [
        {
          "output_type": "stream",
          "name": "stdout",
          "text": [
            "cpu\n"
          ]
        }
      ]
    },
    {
      "cell_type": "code",
      "source": [
        "if not os.path.exists('/content/images'):\n",
        "  !unzip images.zip"
      ],
      "metadata": {
        "id": "whH2uaLr16tV"
      },
      "execution_count": null,
      "outputs": []
    },
    {
      "cell_type": "code",
      "source": [
        "from google.colab import drive\n",
        "drive.mount('/content/drive')\n",
        "checkpoints = '/content/drive/MyDrive/colab_files/music/'\n",
        "if not os.path.exists(checkpoints):\n",
        "    os.makedirs(checkpoints)"
      ],
      "metadata": {
        "id": "yxQkIY5GQGht",
        "colab": {
          "base_uri": "https://localhost:8080/"
        },
        "outputId": "79b94bbc-905f-4b48-ddfc-45db0f95d6b0"
      },
      "execution_count": null,
      "outputs": [
        {
          "output_type": "stream",
          "name": "stdout",
          "text": [
            "Mounted at /content/drive\n"
          ]
        }
      ]
    },
    {
      "cell_type": "code",
      "source": [
        "dataset_path = '/content/images'"
      ],
      "metadata": {
        "id": "W5K7wQ6twTku"
      },
      "execution_count": null,
      "outputs": []
    },
    {
      "cell_type": "code",
      "source": [
        "def get_folder_names(directory):\n",
        "    folder_names = []\n",
        "    for root, dirs, files in os.walk(directory):\n",
        "        for name_dir in dirs:\n",
        "            folder_names.append(name_dir)\n",
        "    return folder_names"
      ],
      "metadata": {
        "id": "3vp2F-8qwxQH"
      },
      "execution_count": null,
      "outputs": []
    },
    {
      "cell_type": "code",
      "source": [
        "folder_list = get_folder_names(dataset_path)\n",
        "print(folder_list)\n",
        "print(len(folder_list))"
      ],
      "metadata": {
        "colab": {
          "base_uri": "https://localhost:8080/"
        },
        "id": "esM-VAS51_rL",
        "outputId": "1f895863-c263-4ca7-eed8-bfb5be70591e"
      },
      "execution_count": null,
      "outputs": [
        {
          "output_type": "stream",
          "name": "stdout",
          "text": [
            "['Eighth-Note', 'Whole-Half-Rest', 'Double-Sharp', 'F-Clef', 'Sixteenth-Rest', 'Quarter-Rest', 'Barline', 'Eighth-Rest', '2-4-Time', 'Whole-Note', 'Natural', '6-8-Time', '3-4-Time', 'Cut-Time', 'Sharp', '4-4-Time', 'Dot', 'Sixty-Four-Rest', 'Sixty-Four-Note', '12-8-Time', '3-8-Time', 'Flat', 'Sixteenth-Note', 'G-Clef', 'Quarter-Note', '2-2-Time', '9-8-Time', 'Thirty-Two-Rest', 'Common-Time', 'Thirty-Two-Note', 'C-Clef', 'Half-Note']\n",
            "32\n"
          ]
        }
      ]
    },
    {
      "cell_type": "markdown",
      "source": [
        "load the data"
      ],
      "metadata": {
        "id": "VwZdReBO_Ta_"
      }
    },
    {
      "cell_type": "code",
      "source": [
        "def get_data():\n",
        "  transform_train = transforms.Compose([\n",
        "        transforms.Resize(128),\n",
        "        # transforms.RandomCrop(128, padding=8, padding_mode='edge'), # Take 128x128 crops from padded images\n",
        "        # transforms.RandomHorizontalFlip(),    # 50% of time flip image along y-axis\n",
        "        transforms.ToTensor(),\n",
        "    ])\n",
        "    \n",
        "  transform_test = transforms.Compose([\n",
        "        transforms.Resize(128),\n",
        "        transforms.ToTensor(),\n",
        "    ])\n",
        "\n",
        "  dataset = torchvision.datasets.ImageFolder(root=dataset_path, transform=transform_train)\n",
        "  \n",
        "  train_size = int(0.7 * len(dataset))\n",
        "  validation_size = int(0.15  * len(dataset))\n",
        "  test_size = int(len(dataset) - (train_size + validation_size))\n",
        "\n",
        "  # Use random_split to split the dataset into train and test sets\n",
        "  train_subset, validation_subset, test_subset = random_split(dataset, [train_size, validation_size, test_size])\n",
        "  \n",
        "  # Create new instances of ImageFolder for each subset\n",
        "  train_dataset = ImageFolder(root=dataset.root, transform=train_subset.dataset.transform)\n",
        "  validation_dataset = ImageFolder(root=dataset.root, transform=validation_subset.dataset.transform)\n",
        "  test_dataset = ImageFolder(root=dataset.root, transform=test_subset.dataset.transform)\n",
        "\n",
        "  # Filter the train_dataset using train_subset indices\n",
        "  train_dataset.samples = [train_dataset.samples[i] for i in train_subset.indices]\n",
        "  train_dataset.targets = [train_dataset.targets[i] for i in train_subset.indices]\n",
        "\n",
        "  # Filter the validation_dataset using validation_subset indices\n",
        "  validation_dataset.samples = [validation_dataset.samples[i] for i in validation_subset.indices]\n",
        "  validation_dataset.targets = [validation_dataset.targets[i] for i in validation_subset.indices]\n",
        "\n",
        "  # Filter the test_dataset using test_subset indices\n",
        "  test_dataset.samples = [test_dataset.samples[i] for i in test_subset.indices]\n",
        "  test_dataset.targets = [test_dataset.targets[i] for i in test_subset.indices]\n",
        "\n",
        "  # Create DataLoaders for train and test sets\n",
        "  train_loader = DataLoader(train_dataset, batch_size=128, shuffle=True, num_workers=2)\n",
        "  validation_loader = DataLoader(validation_dataset, batch_size=1, shuffle=False, num_workers=2)\n",
        "  test_loader = DataLoader(test_dataset, batch_size=1, shuffle=False, num_workers=2)\n",
        "  print(\"dataset size: \" + str(len(dataset)))\n",
        "  print(\"train dataset size: \" + str(len(train_loader.dataset)))\n",
        "  print(\"validation dataset size: \" + str(len(validation_loader)))\n",
        "  print(\"test dataset size: \" + str(len(test_loader)))\n",
        "\n",
        "  class_to_idx = dataset.class_to_idx\n",
        "  #print(class_to_idx)\n",
        "  idx_to_class = {v: k for k, v in dataset.class_to_idx.items()}\n",
        "  #print(idx_to_class)\n",
        "  idx_to_name = {k: v for k, v in dataset.class_to_idx.items()}\n",
        "  #print(idx_to_name)\n",
        "  return {'train': train_loader, 'validation': validation_loader, 'test': test_loader, 'to_class': idx_to_class, 'to_name':idx_to_name}"
      ],
      "metadata": {
        "id": "0zEImOhY7XlC"
      },
      "execution_count": 74,
      "outputs": []
    },
    {
      "cell_type": "code",
      "source": [
        "data = get_data()"
      ],
      "metadata": {
        "id": "9Yy4_goV_EGs",
        "colab": {
          "base_uri": "https://localhost:8080/"
        },
        "outputId": "273a512d-5fa8-4998-f513-e992806dbb7c"
      },
      "execution_count": 75,
      "outputs": [
        {
          "output_type": "stream",
          "name": "stdout",
          "text": [
            "dataset size: 6874\n",
            "train dataset size: 4811\n",
            "validation dataset size: 1031\n",
            "test dataset size: 1032\n"
          ]
        }
      ]
    },
    {
      "cell_type": "code",
      "source": [
        "print(\"total number of classes: \" + str(len(data['to_name'])))\n",
        "print(data['to_class'])"
      ],
      "metadata": {
        "id": "St0sMx9D_GZ6",
        "colab": {
          "base_uri": "https://localhost:8080/"
        },
        "outputId": "49a49ce7-b32e-4ca9-cd85-2650a2bfff21"
      },
      "execution_count": 76,
      "outputs": [
        {
          "output_type": "stream",
          "name": "stdout",
          "text": [
            "total number of classes: 32\n",
            "{0: '12-8-Time', 1: '2-2-Time', 2: '2-4-Time', 3: '3-4-Time', 4: '3-8-Time', 5: '4-4-Time', 6: '6-8-Time', 7: '9-8-Time', 8: 'Barline', 9: 'C-Clef', 10: 'Common-Time', 11: 'Cut-Time', 12: 'Dot', 13: 'Double-Sharp', 14: 'Eighth-Note', 15: 'Eighth-Rest', 16: 'F-Clef', 17: 'Flat', 18: 'G-Clef', 19: 'Half-Note', 20: 'Natural', 21: 'Quarter-Note', 22: 'Quarter-Rest', 23: 'Sharp', 24: 'Sixteenth-Note', 25: 'Sixteenth-Rest', 26: 'Sixty-Four-Note', 27: 'Sixty-Four-Rest', 28: 'Thirty-Two-Note', 29: 'Thirty-Two-Rest', 30: 'Whole-Half-Rest', 31: 'Whole-Note'}\n"
          ]
        }
      ]
    },
    {
      "cell_type": "code",
      "source": [
        "dataiter = iter(data['train'])\n",
        "images, labels = next(dataiter)\n",
        "images = images[:8]\n",
        "print(images.size())\n",
        "\n",
        "def imshow(img):\n",
        "    npimg = img.numpy()\n",
        "    plt.imshow(np.transpose(npimg, (1, 2, 0)))\n",
        "    plt.show()\n",
        "\n",
        "# show images\n",
        "imshow(torchvision.utils.make_grid(images))\n",
        "# print labels\n",
        "# print(\"Labels:\" + ', '.join('%9s' % data['to_name'][labels[j].item()] for j in range(8)))"
      ],
      "metadata": {
        "id": "ZGgOFZon_RYA",
        "colab": {
          "base_uri": "https://localhost:8080/",
          "height": 145
        },
        "outputId": "6ff0596d-60e2-4109-dca2-c3408c6353a3"
      },
      "execution_count": 77,
      "outputs": [
        {
          "output_type": "stream",
          "name": "stdout",
          "text": [
            "torch.Size([8, 3, 128, 128])\n"
          ]
        },
        {
          "output_type": "display_data",
          "data": {
            "text/plain": [
              "<Figure size 640x480 with 1 Axes>"
            ],
            "image/png": "[encoded data removed]"
          },
          "metadata": {}
        }
      ]
    },
    {
      "cell_type": "code",
      "source": [
        "def train(net, dataloader, epochs=1, start_epoch=0, lr=0.01, momentum=0.9, decay=0.0005, \n",
        "          verbose=1, print_every=10, state=None, schedule={}, checkpoint_path=None):\n",
        "    net.to(device)\n",
        "    net.train()\n",
        "    losses = []\n",
        "    criterion = nn.CrossEntropyLoss()\n",
        "    optimizer = optim.SGD(net.parameters(), lr=lr, momentum=momentum, weight_decay=decay)\n",
        "\n",
        "    # Load previous training state\n",
        "    if state:\n",
        "        net.load_state_dict(state['net'])\n",
        "        optimizer.load_state_dict(state['optimizer'])\n",
        "        start_epoch = state['epoch']\n",
        "        losses = state['losses']\n",
        "\n",
        "    # Fast forward lr schedule through already trained epochs\n",
        "    for epoch in range(start_epoch):\n",
        "        if epoch in schedule:\n",
        "            print (\"Learning rate: %f\"% schedule[epoch])\n",
        "            for g in optimizer.param_groups:\n",
        "                g['lr'] = schedule[epoch]\n",
        "\n",
        "    for epoch in range(start_epoch, epochs):\n",
        "        sum_loss = 0.0\n",
        "\n",
        "        # Update learning rate when scheduled\n",
        "        if epoch in schedule:\n",
        "            print (\"Learning rate: %f\"% schedule[epoch])\n",
        "            for g in optimizer.param_groups:\n",
        "                g['lr'] = schedule[epoch]\n",
        "\n",
        "        for i, batch in enumerate(dataloader, 0):\n",
        "            inputs, labels = batch[0].to(device), batch[1].to(device)\n",
        "\n",
        "            optimizer.zero_grad()\n",
        "\n",
        "            outputs = net(inputs)\n",
        "            loss = criterion(outputs, labels)\n",
        "            loss.backward()  # autograd magic, computes all the partial derivatives\n",
        "            optimizer.step() # takes a step in gradient direction\n",
        "\n",
        "            losses.append(loss.item())\n",
        "            sum_loss += loss.item()\n",
        "\n",
        "            if i % print_every == print_every-1:    # print every 10 mini-batches\n",
        "                if verbose:\n",
        "                  print('[%d, %5d] loss: %.3f' % (epoch, i + 1, sum_loss / print_every))\n",
        "                sum_loss = 0.0\n",
        "        if checkpoint_path:\n",
        "            state = {'epoch': epoch+1, 'net': net.state_dict(), 'optimizer': optimizer.state_dict(), 'losses': losses}\n",
        "            torch.save(state, checkpoint_path + 'checkpoint-%d.pkl'%(epoch+1))\n",
        "    return losses"
      ],
      "metadata": {
        "id": "vMklXc7KPUKo"
      },
      "execution_count": 78,
      "outputs": []
    },
    {
      "cell_type": "code",
      "source": [
        "resnet = torch.hub.load('pytorch/vision:v0.6.0', 'resnet18', pretrained=True)\n",
        "resnet.fc = nn.Linear(512, 555) # This will reinitialize the layer as well\n",
        "\n",
        "losses = train(resnet, data['train'], epochs=5, lr=.01, print_every=10, checkpoint_path=checkpoints)"
      ],
      "metadata": {
        "id": "I8IfGRH9PadL",
        "colab": {
          "base_uri": "https://localhost:8080/"
        },
        "outputId": "43cf3027-a804-4512-bdfc-9c6eb18b0a69"
      },
      "execution_count": 79,
      "outputs": [
        {
          "output_type": "stream",
          "name": "stderr",
          "text": [
            "Using cache found in /root/.cache/torch/hub/pytorch_vision_v0.6.0\n",
            "/usr/local/lib/python3.10/dist-packages/torchvision/models/_utils.py:208: UserWarning: The parameter 'pretrained' is deprecated since 0.13 and may be removed in the future, please use 'weights' instead.\n",
            "  warnings.warn(\n",
            "/usr/local/lib/python3.10/dist-packages/torchvision/models/_utils.py:223: UserWarning: Arguments other than a weight enum or `None` for 'weights' are deprecated since 0.13 and may be removed in the future. The current behavior is equivalent to passing `weights=ResNet18_Weights.IMAGENET1K_V1`. You can also use `weights=ResNet18_Weights.DEFAULT` to get the most up-to-date weights.\n",
            "  warnings.warn(msg)\n"
          ]
        },
        {
          "output_type": "stream",
          "name": "stdout",
          "text": [
            "[0,    10] loss: 4.264\n",
            "[0,    20] loss: 1.047\n",
            "[0,    30] loss: 0.478\n",
            "[1,    10] loss: 0.175\n",
            "[1,    20] loss: 0.163\n",
            "[1,    30] loss: 0.167\n",
            "[2,    10] loss: 0.095\n",
            "[2,    20] loss: 0.090\n",
            "[2,    30] loss: 0.075\n",
            "[3,    10] loss: 0.038\n",
            "[3,    20] loss: 0.040\n",
            "[3,    30] loss: 0.036\n",
            "[4,    10] loss: 0.020\n",
            "[4,    20] loss: 0.027\n",
            "[4,    30] loss: 0.021\n"
          ]
        }
      ]
    },
    {
      "cell_type": "code",
      "source": [
        "def smooth(x, size):\n",
        "  return np.convolve(x, np.ones(size)/size, mode='valid')\n",
        "plt.plot(smooth(losses,50))"
      ],
      "metadata": {
        "id": "mw9Z02GJnQHj",
        "colab": {
          "base_uri": "https://localhost:8080/",
          "height": 447
        },
        "outputId": "97427e11-0c58-41ea-d6c8-77fa4b02be4b"
      },
      "execution_count": 80,
      "outputs": [
        {
          "output_type": "execute_result",
          "data": {
            "text/plain": [
              "[<matplotlib.lines.Line2D at 0x7ff6777a2f50>]"
            ]
          },
          "metadata": {},
          "execution_count": 80
        },
        {
          "output_type": "display_data",
          "data": {
            "text/plain": [
              "<Figure size 640x480 with 1 Axes>"
            ],
            "image/png": "[encoded data removed]"
          },
          "metadata": {}
        }
      ]
    },
    {
      "cell_type": "code",
      "source": [
        "from torch._C import ThroughputBenchmark\n",
        "def predict(net, dataloader, ofname):\n",
        "    out = open(ofname, 'w')\n",
        "    net.to(device)\n",
        "    net.eval()\n",
        "    correct = 0\n",
        "    total = 0\n",
        "    out.write(\"actual label, predicted label\\n\")\n",
        "    with torch.no_grad():\n",
        "        for i, (images, labels) in enumerate(dataloader, 0):\n",
        "            if i%100 == 0:\n",
        "                print(i)\n",
        "            images, labels = images.to(device), labels.to(device)\n",
        "            outputs = net(images)\n",
        "            _, predicted = torch.max(outputs.data, 1)\n",
        "            fname, _ = dataloader.dataset.samples[i]\n",
        "            count = sum(x == y for x, y in zip(labels, predicted))\n",
        "            correct += count\n",
        "            total += len(images)\n",
        "            for act, pred in zip(labels, predicted):\n",
        "              out.write(\"{},{}\\n\".format(act, pred))\n",
        "    out.close()\n",
        "    accuracy = correct / total\n",
        "    print(\"Total Accuracy: \"+ str(accuracy))"
      ],
      "metadata": {
        "id": "q_ires6MEj97"
      },
      "execution_count": 81,
      "outputs": []
    },
    {
      "cell_type": "markdown",
      "source": [
        "Predict from training data"
      ],
      "metadata": {
        "id": "3cCU7rIYPP2g"
      }
    },
    {
      "cell_type": "code",
      "source": [
        "# Load model from checkpoint\n",
        "resnet = torch.hub.load('pytorch/vision:v0.6.0', 'resnet18', pretrained=True)\n",
        "resnet.fc = nn.Linear(512, 555) # This will reinitialize the layer as well\n",
        "state = torch.load(checkpoints + 'checkpoint-5.pkl')\n",
        "resnet.load_state_dict(state['net'])\n",
        "\n",
        "predict(resnet, data['train'], checkpoints + \"train_preds.csv\")"
      ],
      "metadata": {
        "id": "FNc7u0Fonk-w",
        "colab": {
          "base_uri": "https://localhost:8080/"
        },
        "outputId": "c53a4b42-147b-4451-cee8-2534c64dee28"
      },
      "execution_count": 82,
      "outputs": [
        {
          "output_type": "stream",
          "name": "stderr",
          "text": [
            "Using cache found in /root/.cache/torch/hub/pytorch_vision_v0.6.0\n"
          ]
        },
        {
          "output_type": "stream",
          "name": "stdout",
          "text": [
            "0\n",
            "Total Accuracy: tensor(0.9967)\n"
          ]
        }
      ]
    },
    {
      "cell_type": "markdown",
      "source": [
        "Predict from validation data"
      ],
      "metadata": {
        "id": "IbKCGzQHPTu6"
      }
    },
    {
      "cell_type": "code",
      "source": [
        "# Load model from checkpoint\n",
        "resnet = torch.hub.load('pytorch/vision:v0.6.0', 'resnet18', pretrained=True)\n",
        "resnet.fc = nn.Linear(512, 555) # This will reinitialize the layer as well\n",
        "state = torch.load(checkpoints + 'checkpoint-5.pkl')\n",
        "resnet.load_state_dict(state['net'])\n",
        "\n",
        "predict(resnet, data['validation'], checkpoints + \"val_preds.csv\")"
      ],
      "metadata": {
        "id": "TR-w1eoQPYCV",
        "colab": {
          "base_uri": "https://localhost:8080/"
        },
        "outputId": "249e3346-b62e-4963-de1e-fcbef5cbcd79"
      },
      "execution_count": 83,
      "outputs": [
        {
          "output_type": "stream",
          "name": "stderr",
          "text": [
            "Using cache found in /root/.cache/torch/hub/pytorch_vision_v0.6.0\n"
          ]
        },
        {
          "output_type": "stream",
          "name": "stdout",
          "text": [
            "0\n",
            "100\n",
            "200\n",
            "300\n",
            "400\n",
            "500\n",
            "600\n",
            "700\n",
            "800\n",
            "900\n",
            "1000\n",
            "Total Accuracy: tensor(0.9282)\n"
          ]
        }
      ]
    },
    {
      "cell_type": "markdown",
      "source": [
        "Predict on test data"
      ],
      "metadata": {
        "id": "JZOH8k2mPa7b"
      }
    },
    {
      "cell_type": "code",
      "source": [
        "# Load model from checkpoint\n",
        "resnet = torch.hub.load('pytorch/vision:v0.6.0', 'resnet18', pretrained=True)\n",
        "resnet.fc = nn.Linear(512, 555) # This will reinitialize the layer as well\n",
        "state = torch.load(checkpoints + 'checkpoint-5.pkl')\n",
        "resnet.load_state_dict(state['net'])\n",
        "\n",
        "predict(resnet, data['test'], checkpoints + \"test_preds.csv\")"
      ],
      "metadata": {
        "id": "tiwPtNvWPdiY",
        "colab": {
          "base_uri": "https://localhost:8080/"
        },
        "outputId": "0c9fa41d-8bc8-40ab-81a0-54b045c3aea1"
      },
      "execution_count": 84,
      "outputs": [
        {
          "output_type": "stream",
          "name": "stderr",
          "text": [
            "Using cache found in /root/.cache/torch/hub/pytorch_vision_v0.6.0\n"
          ]
        },
        {
          "output_type": "stream",
          "name": "stdout",
          "text": [
            "0\n",
            "100\n",
            "200\n",
            "300\n",
            "400\n",
            "500\n",
            "600\n",
            "700\n",
            "800\n",
            "900\n",
            "1000\n",
            "Total Accuracy: tensor(0.9428)\n"
          ]
        }
      ]
    }
  ]
}